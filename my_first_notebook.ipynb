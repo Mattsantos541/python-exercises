{
 "cells": [
  {
   "cell_type": "code",
   "execution_count": 1,
   "metadata": {},
   "outputs": [
    {
     "data": {
      "text/plain": [
       "'Hello World'"
      ]
     },
     "execution_count": 1,
     "metadata": {},
     "output_type": "execute_result"
    }
   ],
   "source": [
    "\"Hello World\""
   ]
  },
  {
   "cell_type": "code",
   "execution_count": 4,
   "metadata": {},
   "outputs": [
    {
     "name": "stdout",
     "output_type": "stream",
     "text": [
      " What is your name? Matt\n"
     ]
    }
   ],
   "source": [
    "Greeting = \" What is your name?\"\n",
    "name = \"Matt\"\n",
    "print (Greeting + \" \" + name)"
   ]
  },
  {
   "cell_type": "code",
   "execution_count": 3,
   "metadata": {},
   "outputs": [
    {
     "data": {
      "text/plain": [
       "2"
      ]
     },
     "execution_count": 3,
     "metadata": {},
     "output_type": "execute_result"
    }
   ],
   "source": [
    "1+1"
   ]
  },
  {
   "cell_type": "code",
   "execution_count": null,
   "metadata": {},
   "outputs": [],
   "source": []
  },
  {
   "cell_type": "code",
   "execution_count": 2,
   "metadata": {},
   "outputs": [],
   "source": [
    "command_mode= \"to enable edit mode, hit ESC from inside a green cell\""
   ]
  },
  {
   "cell_type": "code",
   "execution_count": 1,
   "metadata": {},
   "outputs": [
    {
     "ename": "SyntaxError",
     "evalue": "invalid syntax (<ipython-input-1-b9393da4b4df>, line 1)",
     "output_type": "error",
     "traceback": [
      "\u001b[0;36m  File \u001b[0;32m\"<ipython-input-1-b9393da4b4df>\"\u001b[0;36m, line \u001b[0;32m1\u001b[0m\n\u001b[0;31m    how_to_get help_in_command_mode = \"h\"\u001b[0m\n\u001b[0m                                  ^\u001b[0m\n\u001b[0;31mSyntaxError\u001b[0m\u001b[0;31m:\u001b[0m invalid syntax\n"
     ]
    }
   ],
   "source": [
    "how_to_get help_in_command_mode = \"h\"\n",
    "undo_inside_new_cell_above= \"Commasnd +Z\"\n",
    "undo_from_command_mode= \"Z\"\n",
    "\n"
   ]
  },
  {
   "cell_type": "code",
   "execution_count": 7,
   "metadata": {},
   "outputs": [
    {
     "name": "stdout",
     "output_type": "stream",
     "text": [
      "day of the weekFriday\n",
      "not Monday\n"
     ]
    }
   ],
   "source": [
    "day = input(\"day of the week\")\n",
    "if day == \"Monday\":\n",
    "    print(\"Monday\")\n",
    "else:\n",
    "    print (\"not Monday\")"
   ]
  },
  {
   "cell_type": "code",
   "execution_count": 9,
   "metadata": {},
   "outputs": [
    {
     "name": "stdout",
     "output_type": "stream",
     "text": [
      "day of the weekFriday\n",
      "not workday\n"
     ]
    }
   ],
   "source": [
    "day = input(\"day of the week\")\n",
    "if day == (\"Monday\" or \"Tuesday\" or \"Wednesday\" or \"Thursday\" or \"Friday\"):\n",
    "    print (\"Weekday\")\n",
    "else:\n",
    "    print (\"not workday\")"
   ]
  },
  {
   "cell_type": "code",
   "execution_count": 10,
   "metadata": {},
   "outputs": [],
   "source": [
    "hours= 45\n",
    "rate= 25\n",
    "if hours <= 40:\n",
    "    total = hours * rate\n",
    "else:\n",
    "    total = 40 * rate + (hours - 40) * (1.5 * rate)"
   ]
  },
  {
   "cell_type": "code",
   "execution_count": null,
   "metadata": {},
   "outputs": [],
   "source": []
  }
 ],
 "metadata": {
  "kernelspec": {
   "display_name": "Python 3",
   "language": "python",
   "name": "python3"
  },
  "language_info": {
   "codemirror_mode": {
    "name": "ipython",
    "version": 3
   },
   "file_extension": ".py",
   "mimetype": "text/x-python",
   "name": "python",
   "nbconvert_exporter": "python",
   "pygments_lexer": "ipython3",
   "version": "3.7.3"
  }
 },
 "nbformat": 4,
 "nbformat_minor": 2
}
